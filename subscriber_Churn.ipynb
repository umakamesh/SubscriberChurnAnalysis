{
 "cells": [
  {
   "cell_type": "code",
   "execution_count": 1,
   "id": "5a634cd3",
   "metadata": {},
   "outputs": [
    {
     "name": "stdout",
     "output_type": "stream",
     "text": [
      "\u001b[H\u001b[2J"
     ]
    }
   ],
   "source": [
    "try:\n",
    "    from IPython import get_ipython\n",
    "    get_ipython().magic('clear')\n",
    "    get_ipython().magic('reset -f')\n",
    "except:\n",
    "    pass"
   ]
  },
  {
   "cell_type": "code",
   "execution_count": 2,
   "id": "88911d10",
   "metadata": {},
   "outputs": [],
   "source": [
    "#Standard libraries for data analysis:\n",
    "    \n",
    "import numpy as np\n",
    "import matplotlib.pyplot as plt\n",
    "import pandas as pd\n",
    "#from pandas import Series,DataFrame\n",
    "from scipy.stats import norm, skew\n",
    "from scipy import stats\n",
    "import statsmodels.api as sm\n",
    "\n",
    "#Miscellaneous Utilitiy Libraries:\n",
    "    \n",
    "import random\n",
    "import os\n",
    "import re\n",
    "import sys\n",
    "import timeit\n",
    "import string\n",
    "import time\n",
    "from datetime import datetime\n",
    "from time import time\n",
    "from dateutil.parser import parse\n",
    "import joblib"
   ]
  },
  {
   "cell_type": "code",
   "execution_count": 3,
   "id": "7d46aec9",
   "metadata": {},
   "outputs": [],
   "source": [
    "df = pd.read_csv('subscriber_subset.csv')"
   ]
  },
  {
   "cell_type": "code",
   "execution_count": null,
   "id": "a7a08a2c",
   "metadata": {},
   "outputs": [],
   "source": [
    "df.head()"
   ]
  },
  {
   "cell_type": "code",
   "execution_count": null,
   "id": "02bcfff5",
   "metadata": {},
   "outputs": [],
   "source": [
    "df.columns"
   ]
  },
  {
   "cell_type": "code",
   "execution_count": null,
   "id": "4f96524a",
   "metadata": {},
   "outputs": [],
   "source": [
    "df.describe()"
   ]
  },
  {
   "cell_type": "code",
   "execution_count": null,
   "id": "45f7d3da",
   "metadata": {},
   "outputs": [],
   "source": [
    "df.dtypes"
   ]
  },
  {
   "cell_type": "code",
   "execution_count": 4,
   "id": "5e71f98b",
   "metadata": {},
   "outputs": [
    {
     "data": {
      "text/plain": [
       "{int64: ['org_id', 'endpoint_id', 'status', 'current'], object: ['date_time']}"
      ]
     },
     "execution_count": 4,
     "metadata": {},
     "output_type": "execute_result"
    }
   ],
   "source": [
    "df.columns.to_series().groupby(df.dtypes).groups"
   ]
  },
  {
   "cell_type": "code",
   "execution_count": 5,
   "id": "8c09ec2f",
   "metadata": {},
   "outputs": [
    {
     "data": {
      "text/plain": [
       "<bound method DataFrame.info of        org_id  endpoint_id  status  current  date_time\n",
       "0      160090     74002331       3        1  12/2/2017\n",
       "1      160090     85592712    1003        1  5/19/2018\n",
       "2      160090     86164407    1003        1  5/28/2018\n",
       "3      160090     75821508    1003        1  6/28/2018\n",
       "4      160090     87939366    1003        1  6/29/2018\n",
       "...       ...          ...     ...      ...        ...\n",
       "81188  160090     88520174    1003        1  7/16/2018\n",
       "81189  160090     88520174    1003        1  7/10/2018\n",
       "81190  160090     89676934    1003        1  7/31/2018\n",
       "81191  160090     88520174       4        1  7/17/2018\n",
       "81192  160090     77725358    1003        1  7/30/2018\n",
       "\n",
       "[81193 rows x 5 columns]>"
      ]
     },
     "execution_count": 5,
     "metadata": {},
     "output_type": "execute_result"
    }
   ],
   "source": [
    "df.info"
   ]
  },
  {
   "cell_type": "code",
   "execution_count": null,
   "id": "03a56e6f",
   "metadata": {},
   "outputs": [],
   "source": [
    "df.isna().any()"
   ]
  },
  {
   "cell_type": "code",
   "execution_count": 6,
   "id": "5c84e8b6",
   "metadata": {},
   "outputs": [
    {
     "data": {
      "text/plain": [
       "1     77383\n",
       "0      2553\n",
       "2      1084\n",
       "16       70\n",
       "3        55\n",
       "4        37\n",
       "5         5\n",
       "6         2\n",
       "14        2\n",
       "7         1\n",
       "17        1\n",
       "Name: current, dtype: int64"
      ]
     },
     "execution_count": 6,
     "metadata": {},
     "output_type": "execute_result"
    }
   ],
   "source": [
    "df[\"current\"].value_counts()"
   ]
  },
  {
   "cell_type": "code",
   "execution_count": null,
   "id": "9f0eed70",
   "metadata": {},
   "outputs": [],
   "source": [
    "df2 = df[['org_id','endpoint_id','status','current']]\n",
    "\n",
    "#histogram\n",
    "\n",
    "fig = plt.figure(figsize =(15,12))\n",
    "plt.suptitle('Histograms of Numeric Columns\\n' ,horizontalalignment=\"center\",fontstyle = \"normal\", fontsize = 24, fontfamily = \"sans-serif\")\n",
    "for i in range(df2.shape[1]):\n",
    "    plt.subplot(6,3,i+1)\n",
    "    f=plt.gca()\n",
    "    f.set_title(df2.columns.values[i])\n",
    "    \n",
    "vals = np.size(df2.iloc[:, i].unique())\n",
    "if vals >= 100:\n",
    "    vals = 100\n",
    "    \n",
    "plt.hist(df2.iloc[:, i], bins=vals, color = '#ec838a')\n",
    "plt.tight_layout(rect=[0, 0.03, 1, 0.95])"
   ]
  },
  {
   "cell_type": "code",
   "execution_count": null,
   "id": "303d81bf",
   "metadata": {},
   "outputs": [],
   "source": [
    "df2.shape"
   ]
  },
  {
   "cell_type": "code",
   "execution_count": null,
   "id": "c6b8263a",
   "metadata": {},
   "outputs": [],
   "source": [
    "df.shape[0], df.endpoint_id.nunique()"
   ]
  },
  {
   "cell_type": "code",
   "execution_count": null,
   "id": "4706c6c7",
   "metadata": {},
   "outputs": [],
   "source": [
    "df.groupby(['endpoint_id']).count()"
   ]
  },
  {
   "cell_type": "code",
   "execution_count": null,
   "id": "72b54acf",
   "metadata": {},
   "outputs": [],
   "source": [
    "df.query('endpoint_id == 60637549')"
   ]
  },
  {
   "cell_type": "code",
   "execution_count": null,
   "id": "20b68776",
   "metadata": {},
   "outputs": [],
   "source": [
    "df.query('endpoint_id == 60637549 & status == 4 | status = 3')"
   ]
  },
  {
   "cell_type": "code",
   "execution_count": 7,
   "id": "4cb5cd7b",
   "metadata": {},
   "outputs": [],
   "source": [
    "df1 = df[\n",
    "    (df['endpoint_id'] == 60637549) & \n",
    "    (\n",
    "      (\n",
    "        (df['status'] ==4)\n",
    "        &\n",
    "        (df['current'] ==0)\n",
    "      )\n",
    "     |\n",
    "      ( \n",
    "        (df['status'] == 3) \n",
    "       &\n",
    "       (df['current'] ==1)\n",
    "     )\n",
    "    )\n",
    "   ].sort_values(by=['date_time'])"
   ]
  },
  {
   "cell_type": "code",
   "execution_count": 8,
   "id": "632a2f88",
   "metadata": {},
   "outputs": [
    {
     "data": {
      "text/html": [
       "<div>\n",
       "<style scoped>\n",
       "    .dataframe tbody tr th:only-of-type {\n",
       "        vertical-align: middle;\n",
       "    }\n",
       "\n",
       "    .dataframe tbody tr th {\n",
       "        vertical-align: top;\n",
       "    }\n",
       "\n",
       "    .dataframe thead th {\n",
       "        text-align: right;\n",
       "    }\n",
       "</style>\n",
       "<table border=\"1\" class=\"dataframe\">\n",
       "  <thead>\n",
       "    <tr style=\"text-align: right;\">\n",
       "      <th></th>\n",
       "      <th>org_id</th>\n",
       "      <th>endpoint_id</th>\n",
       "      <th>status</th>\n",
       "      <th>current</th>\n",
       "      <th>date_time</th>\n",
       "    </tr>\n",
       "  </thead>\n",
       "  <tbody>\n",
       "    <tr>\n",
       "      <th>2145</th>\n",
       "      <td>160090</td>\n",
       "      <td>60637549</td>\n",
       "      <td>4</td>\n",
       "      <td>0</td>\n",
       "      <td>1/24/2018</td>\n",
       "    </tr>\n",
       "    <tr>\n",
       "      <th>2723</th>\n",
       "      <td>160090</td>\n",
       "      <td>60637549</td>\n",
       "      <td>3</td>\n",
       "      <td>1</td>\n",
       "      <td>2/7/2018</td>\n",
       "    </tr>\n",
       "    <tr>\n",
       "      <th>36506</th>\n",
       "      <td>160090</td>\n",
       "      <td>60637549</td>\n",
       "      <td>4</td>\n",
       "      <td>0</td>\n",
       "      <td>6/21/2018</td>\n",
       "    </tr>\n",
       "    <tr>\n",
       "      <th>36606</th>\n",
       "      <td>160090</td>\n",
       "      <td>60637549</td>\n",
       "      <td>3</td>\n",
       "      <td>1</td>\n",
       "      <td>6/22/2018</td>\n",
       "    </tr>\n",
       "  </tbody>\n",
       "</table>\n",
       "</div>"
      ],
      "text/plain": [
       "       org_id  endpoint_id  status  current  date_time\n",
       "2145   160090     60637549       4        0  1/24/2018\n",
       "2723   160090     60637549       3        1   2/7/2018\n",
       "36506  160090     60637549       4        0  6/21/2018\n",
       "36606  160090     60637549       3        1  6/22/2018"
      ]
     },
     "execution_count": 8,
     "metadata": {},
     "output_type": "execute_result"
    }
   ],
   "source": [
    "#df_60637549\n",
    "df1"
   ]
  },
  {
   "cell_type": "code",
   "execution_count": 9,
   "id": "d9d59758",
   "metadata": {},
   "outputs": [
    {
     "data": {
      "text/plain": [
       "'6/22/2018'"
      ]
     },
     "execution_count": 9,
     "metadata": {},
     "output_type": "execute_result"
    }
   ],
   "source": [
    "df1.date_time.max()"
   ]
  },
  {
   "cell_type": "code",
   "execution_count": 16,
   "id": "62f60aa6",
   "metadata": {},
   "outputs": [
    {
     "data": {
      "text/html": [
       "<div>\n",
       "<style scoped>\n",
       "    .dataframe tbody tr th:only-of-type {\n",
       "        vertical-align: middle;\n",
       "    }\n",
       "\n",
       "    .dataframe tbody tr th {\n",
       "        vertical-align: top;\n",
       "    }\n",
       "\n",
       "    .dataframe thead th {\n",
       "        text-align: right;\n",
       "    }\n",
       "</style>\n",
       "<table border=\"1\" class=\"dataframe\">\n",
       "  <thead>\n",
       "    <tr style=\"text-align: right;\">\n",
       "      <th></th>\n",
       "      <th>date_time</th>\n",
       "    </tr>\n",
       "    <tr>\n",
       "      <th>endpoint_id</th>\n",
       "      <th></th>\n",
       "    </tr>\n",
       "  </thead>\n",
       "  <tbody>\n",
       "    <tr>\n",
       "      <th>60637549</th>\n",
       "      <td>2018-06-22</td>\n",
       "    </tr>\n",
       "  </tbody>\n",
       "</table>\n",
       "</div>"
      ],
      "text/plain": [
       "             date_time\n",
       "endpoint_id           \n",
       "60637549    2018-06-22"
      ]
     },
     "execution_count": 16,
     "metadata": {},
     "output_type": "execute_result"
    }
   ],
   "source": [
    "df1.groupby([\"endpoint_id\"]).agg({'date_time' : np.max})"
   ]
  },
  {
   "cell_type": "code",
   "execution_count": null,
   "id": "708a4f0e",
   "metadata": {},
   "outputs": [],
   "source": [
    "df1 = df1.groupby([\"status\",\"endpoint_id\"])\n",
    "df1 = df1.size()\n",
    "df.reset_index(name='Count')"
   ]
  },
  {
   "cell_type": "code",
   "execution_count": 10,
   "id": "dfb20e50",
   "metadata": {},
   "outputs": [
    {
     "name": "stdout",
     "output_type": "stream",
     "text": [
      "       org_id  endpoint_id  status  current  date_time\n",
      "36606  160090     60637549       3        1 2018-06-22\n"
     ]
    }
   ],
   "source": [
    "df1['date_time'] = pd.to_datetime(df1['date_time'])\n",
    "df1 = (df1[df1['endpoint_id'].ne(0)]\n",
    "         .sort_values(['endpoint_id','date_time'])\n",
    "         .drop_duplicates('endpoint_id', keep='last'))\n",
    "print(df1)"
   ]
  },
  {
   "cell_type": "code",
   "execution_count": 11,
   "id": "1dc90b15",
   "metadata": {},
   "outputs": [],
   "source": [
    "df2 = df[\n",
    "    #(df['endpoint_id'] == 60637549) & \n",
    "    (\n",
    "      (\n",
    "        (df['status'] ==4)\n",
    "        &\n",
    "        (df['current'] ==0)\n",
    "      )\n",
    "     |\n",
    "      ( \n",
    "        (df['status'] == 3) \n",
    "       &\n",
    "       (df['current'] ==1)\n",
    "     )\n",
    "    )\n",
    "   ].sort_values(by=['date_time'])"
   ]
  },
  {
   "cell_type": "code",
   "execution_count": 13,
   "id": "65588a6a",
   "metadata": {},
   "outputs": [
    {
     "name": "stdout",
     "output_type": "stream",
     "text": [
      "       org_id  endpoint_id  status  current  date_time\n",
      "1005   160090      2631826       3        1 2017-12-02\n",
      "3572   160090      2631844       3        1 2017-12-02\n",
      "3573   160090      2631853       3        1 2017-12-02\n",
      "1006   160090      2631858       3        1 2017-12-02\n",
      "18     160090      2631877       3        1 2017-12-02\n",
      "...       ...          ...     ...      ...        ...\n",
      "80790  160090     89242745       4        0 2018-07-27\n",
      "79714  160090     89432947       3        1 2018-07-26\n",
      "70426  160090     89442940       3        1 2018-07-26\n",
      "80789  160090     89444982       3        1 2018-07-27\n",
      "74454  160090     89708058       3        1 2018-08-01\n",
      "\n",
      "[10878 rows x 5 columns]\n"
     ]
    }
   ],
   "source": [
    "df2['date_time'] = pd.to_datetime(df2['date_time'])\n",
    "df2 = (df2[df2['endpoint_id'].ne(0)]\n",
    "         .sort_values(['endpoint_id','date_time'])\n",
    "         .drop_duplicates('endpoint_id', keep='last'))\n",
    "print(df2)"
   ]
  },
  {
   "cell_type": "code",
   "execution_count": 14,
   "id": "edac6f6c",
   "metadata": {},
   "outputs": [],
   "source": [
    "df2.to_csv('output.csv')"
   ]
  },
  {
   "cell_type": "code",
   "execution_count": 18,
   "id": "acecadf2",
   "metadata": {},
   "outputs": [],
   "source": [
    "df2.insert(5,\"Churn_status\",\"\",allow_duplicates=True)"
   ]
  },
  {
   "cell_type": "code",
   "execution_count": 19,
   "id": "bbe383eb",
   "metadata": {},
   "outputs": [
    {
     "data": {
      "text/html": [
       "<div>\n",
       "<style scoped>\n",
       "    .dataframe tbody tr th:only-of-type {\n",
       "        vertical-align: middle;\n",
       "    }\n",
       "\n",
       "    .dataframe tbody tr th {\n",
       "        vertical-align: top;\n",
       "    }\n",
       "\n",
       "    .dataframe thead th {\n",
       "        text-align: right;\n",
       "    }\n",
       "</style>\n",
       "<table border=\"1\" class=\"dataframe\">\n",
       "  <thead>\n",
       "    <tr style=\"text-align: right;\">\n",
       "      <th></th>\n",
       "      <th>org_id</th>\n",
       "      <th>endpoint_id</th>\n",
       "      <th>status</th>\n",
       "      <th>current</th>\n",
       "      <th>date_time</th>\n",
       "      <th>Churn_status</th>\n",
       "    </tr>\n",
       "  </thead>\n",
       "  <tbody>\n",
       "    <tr>\n",
       "      <th>1005</th>\n",
       "      <td>160090</td>\n",
       "      <td>2631826</td>\n",
       "      <td>3</td>\n",
       "      <td>1</td>\n",
       "      <td>2017-12-02</td>\n",
       "      <td></td>\n",
       "    </tr>\n",
       "    <tr>\n",
       "      <th>3572</th>\n",
       "      <td>160090</td>\n",
       "      <td>2631844</td>\n",
       "      <td>3</td>\n",
       "      <td>1</td>\n",
       "      <td>2017-12-02</td>\n",
       "      <td></td>\n",
       "    </tr>\n",
       "    <tr>\n",
       "      <th>3573</th>\n",
       "      <td>160090</td>\n",
       "      <td>2631853</td>\n",
       "      <td>3</td>\n",
       "      <td>1</td>\n",
       "      <td>2017-12-02</td>\n",
       "      <td></td>\n",
       "    </tr>\n",
       "    <tr>\n",
       "      <th>1006</th>\n",
       "      <td>160090</td>\n",
       "      <td>2631858</td>\n",
       "      <td>3</td>\n",
       "      <td>1</td>\n",
       "      <td>2017-12-02</td>\n",
       "      <td></td>\n",
       "    </tr>\n",
       "    <tr>\n",
       "      <th>18</th>\n",
       "      <td>160090</td>\n",
       "      <td>2631877</td>\n",
       "      <td>3</td>\n",
       "      <td>1</td>\n",
       "      <td>2017-12-02</td>\n",
       "      <td></td>\n",
       "    </tr>\n",
       "    <tr>\n",
       "      <th>...</th>\n",
       "      <td>...</td>\n",
       "      <td>...</td>\n",
       "      <td>...</td>\n",
       "      <td>...</td>\n",
       "      <td>...</td>\n",
       "      <td>...</td>\n",
       "    </tr>\n",
       "    <tr>\n",
       "      <th>80790</th>\n",
       "      <td>160090</td>\n",
       "      <td>89242745</td>\n",
       "      <td>4</td>\n",
       "      <td>0</td>\n",
       "      <td>2018-07-27</td>\n",
       "      <td></td>\n",
       "    </tr>\n",
       "    <tr>\n",
       "      <th>79714</th>\n",
       "      <td>160090</td>\n",
       "      <td>89432947</td>\n",
       "      <td>3</td>\n",
       "      <td>1</td>\n",
       "      <td>2018-07-26</td>\n",
       "      <td></td>\n",
       "    </tr>\n",
       "    <tr>\n",
       "      <th>70426</th>\n",
       "      <td>160090</td>\n",
       "      <td>89442940</td>\n",
       "      <td>3</td>\n",
       "      <td>1</td>\n",
       "      <td>2018-07-26</td>\n",
       "      <td></td>\n",
       "    </tr>\n",
       "    <tr>\n",
       "      <th>80789</th>\n",
       "      <td>160090</td>\n",
       "      <td>89444982</td>\n",
       "      <td>3</td>\n",
       "      <td>1</td>\n",
       "      <td>2018-07-27</td>\n",
       "      <td></td>\n",
       "    </tr>\n",
       "    <tr>\n",
       "      <th>74454</th>\n",
       "      <td>160090</td>\n",
       "      <td>89708058</td>\n",
       "      <td>3</td>\n",
       "      <td>1</td>\n",
       "      <td>2018-08-01</td>\n",
       "      <td></td>\n",
       "    </tr>\n",
       "  </tbody>\n",
       "</table>\n",
       "<p>10878 rows × 6 columns</p>\n",
       "</div>"
      ],
      "text/plain": [
       "       org_id  endpoint_id  status  current  date_time Churn_status\n",
       "1005   160090      2631826       3        1 2017-12-02             \n",
       "3572   160090      2631844       3        1 2017-12-02             \n",
       "3573   160090      2631853       3        1 2017-12-02             \n",
       "1006   160090      2631858       3        1 2017-12-02             \n",
       "18     160090      2631877       3        1 2017-12-02             \n",
       "...       ...          ...     ...      ...        ...          ...\n",
       "80790  160090     89242745       4        0 2018-07-27             \n",
       "79714  160090     89432947       3        1 2018-07-26             \n",
       "70426  160090     89442940       3        1 2018-07-26             \n",
       "80789  160090     89444982       3        1 2018-07-27             \n",
       "74454  160090     89708058       3        1 2018-08-01             \n",
       "\n",
       "[10878 rows x 6 columns]"
      ]
     },
     "execution_count": 19,
     "metadata": {},
     "output_type": "execute_result"
    }
   ],
   "source": [
    "df2"
   ]
  },
  {
   "cell_type": "code",
   "execution_count": 29,
   "id": "2ee7e45c",
   "metadata": {},
   "outputs": [],
   "source": [
    "df2.loc[df2['status'] == 3, 'Churn_status'] = 'Churned'\n",
    "df2.loc[df2['status'] == 4, 'Churn_status'] = 'Not Churned'"
   ]
  },
  {
   "cell_type": "code",
   "execution_count": 30,
   "id": "9f81bde6",
   "metadata": {},
   "outputs": [
    {
     "data": {
      "text/html": [
       "<div>\n",
       "<style scoped>\n",
       "    .dataframe tbody tr th:only-of-type {\n",
       "        vertical-align: middle;\n",
       "    }\n",
       "\n",
       "    .dataframe tbody tr th {\n",
       "        vertical-align: top;\n",
       "    }\n",
       "\n",
       "    .dataframe thead th {\n",
       "        text-align: right;\n",
       "    }\n",
       "</style>\n",
       "<table border=\"1\" class=\"dataframe\">\n",
       "  <thead>\n",
       "    <tr style=\"text-align: right;\">\n",
       "      <th></th>\n",
       "      <th>org_id</th>\n",
       "      <th>endpoint_id</th>\n",
       "      <th>status</th>\n",
       "      <th>current</th>\n",
       "      <th>date_time</th>\n",
       "      <th>Churn_status</th>\n",
       "    </tr>\n",
       "  </thead>\n",
       "  <tbody>\n",
       "    <tr>\n",
       "      <th>1005</th>\n",
       "      <td>160090</td>\n",
       "      <td>2631826</td>\n",
       "      <td>3</td>\n",
       "      <td>1</td>\n",
       "      <td>2017-12-02</td>\n",
       "      <td>Churned</td>\n",
       "    </tr>\n",
       "    <tr>\n",
       "      <th>3572</th>\n",
       "      <td>160090</td>\n",
       "      <td>2631844</td>\n",
       "      <td>3</td>\n",
       "      <td>1</td>\n",
       "      <td>2017-12-02</td>\n",
       "      <td>Churned</td>\n",
       "    </tr>\n",
       "    <tr>\n",
       "      <th>3573</th>\n",
       "      <td>160090</td>\n",
       "      <td>2631853</td>\n",
       "      <td>3</td>\n",
       "      <td>1</td>\n",
       "      <td>2017-12-02</td>\n",
       "      <td>Churned</td>\n",
       "    </tr>\n",
       "    <tr>\n",
       "      <th>1006</th>\n",
       "      <td>160090</td>\n",
       "      <td>2631858</td>\n",
       "      <td>3</td>\n",
       "      <td>1</td>\n",
       "      <td>2017-12-02</td>\n",
       "      <td>Churned</td>\n",
       "    </tr>\n",
       "    <tr>\n",
       "      <th>18</th>\n",
       "      <td>160090</td>\n",
       "      <td>2631877</td>\n",
       "      <td>3</td>\n",
       "      <td>1</td>\n",
       "      <td>2017-12-02</td>\n",
       "      <td>Churned</td>\n",
       "    </tr>\n",
       "    <tr>\n",
       "      <th>...</th>\n",
       "      <td>...</td>\n",
       "      <td>...</td>\n",
       "      <td>...</td>\n",
       "      <td>...</td>\n",
       "      <td>...</td>\n",
       "      <td>...</td>\n",
       "    </tr>\n",
       "    <tr>\n",
       "      <th>80790</th>\n",
       "      <td>160090</td>\n",
       "      <td>89242745</td>\n",
       "      <td>4</td>\n",
       "      <td>0</td>\n",
       "      <td>2018-07-27</td>\n",
       "      <td>Not Churned</td>\n",
       "    </tr>\n",
       "    <tr>\n",
       "      <th>79714</th>\n",
       "      <td>160090</td>\n",
       "      <td>89432947</td>\n",
       "      <td>3</td>\n",
       "      <td>1</td>\n",
       "      <td>2018-07-26</td>\n",
       "      <td>Churned</td>\n",
       "    </tr>\n",
       "    <tr>\n",
       "      <th>70426</th>\n",
       "      <td>160090</td>\n",
       "      <td>89442940</td>\n",
       "      <td>3</td>\n",
       "      <td>1</td>\n",
       "      <td>2018-07-26</td>\n",
       "      <td>Churned</td>\n",
       "    </tr>\n",
       "    <tr>\n",
       "      <th>80789</th>\n",
       "      <td>160090</td>\n",
       "      <td>89444982</td>\n",
       "      <td>3</td>\n",
       "      <td>1</td>\n",
       "      <td>2018-07-27</td>\n",
       "      <td>Churned</td>\n",
       "    </tr>\n",
       "    <tr>\n",
       "      <th>74454</th>\n",
       "      <td>160090</td>\n",
       "      <td>89708058</td>\n",
       "      <td>3</td>\n",
       "      <td>1</td>\n",
       "      <td>2018-08-01</td>\n",
       "      <td>Churned</td>\n",
       "    </tr>\n",
       "  </tbody>\n",
       "</table>\n",
       "<p>10878 rows × 6 columns</p>\n",
       "</div>"
      ],
      "text/plain": [
       "       org_id  endpoint_id  status  current  date_time Churn_status\n",
       "1005   160090      2631826       3        1 2017-12-02      Churned\n",
       "3572   160090      2631844       3        1 2017-12-02      Churned\n",
       "3573   160090      2631853       3        1 2017-12-02      Churned\n",
       "1006   160090      2631858       3        1 2017-12-02      Churned\n",
       "18     160090      2631877       3        1 2017-12-02      Churned\n",
       "...       ...          ...     ...      ...        ...          ...\n",
       "80790  160090     89242745       4        0 2018-07-27  Not Churned\n",
       "79714  160090     89432947       3        1 2018-07-26      Churned\n",
       "70426  160090     89442940       3        1 2018-07-26      Churned\n",
       "80789  160090     89444982       3        1 2018-07-27      Churned\n",
       "74454  160090     89708058       3        1 2018-08-01      Churned\n",
       "\n",
       "[10878 rows x 6 columns]"
      ]
     },
     "execution_count": 30,
     "metadata": {},
     "output_type": "execute_result"
    }
   ],
   "source": [
    "df2"
   ]
  },
  {
   "cell_type": "code",
   "execution_count": 31,
   "id": "3f3ca535",
   "metadata": {},
   "outputs": [],
   "source": [
    "df2.to_csv('output.csv')"
   ]
  },
  {
   "cell_type": "code",
   "execution_count": null,
   "id": "eacaee5a",
   "metadata": {},
   "outputs": [],
   "source": []
  }
 ],
 "metadata": {
  "kernelspec": {
   "display_name": "Python 3",
   "language": "python",
   "name": "python3"
  },
  "language_info": {
   "codemirror_mode": {
    "name": "ipython",
    "version": 3
   },
   "file_extension": ".py",
   "mimetype": "text/x-python",
   "name": "python",
   "nbconvert_exporter": "python",
   "pygments_lexer": "ipython3",
   "version": "3.8.8"
  }
 },
 "nbformat": 4,
 "nbformat_minor": 5
}
